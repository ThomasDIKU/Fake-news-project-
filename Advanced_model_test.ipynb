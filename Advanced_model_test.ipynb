{
 "cells": [
  {
   "cell_type": "code",
   "execution_count": null,
   "metadata": {},
   "outputs": [],
   "source": [
    "from google.colab import drive\n",
    "drive.mount('/content/drive')\n",
    "\n",
    "data_test = pd.read_csv(\"/content/drive/My Drive/995,000_rows_preprocessed_test.csv\", usecols=[\"type\", \"content\"]) #Read the CSV file\n",
    "\n",
    "model = load_model(\"/content/drive/My Drive/my_model_v2.keras\") #Load the model\n",
    "print(data_test['content'])"
   ]
  },
  {
   "cell_type": "code",
   "execution_count": null,
   "metadata": {},
   "outputs": [],
   "source": [
    "from tensorflow.keras.preprocessing.text import Tokenizer\n",
    "from tensorflow.keras.preprocessing.sequence import pad_sequences\n",
    "\n",
    "# Load your dataset (assuming df is your DataFrame)\n",
    "#df = data.dropna(subset=['type', 'content']).copy()\n",
    "\n",
    "def Classificationtype(df):\n",
    "  df['type'] = df['type'].map({\n",
    "      'unreliable': 0.0,\n",
    "      'fake': 0.0,\n",
    "      'clickbait': 1.0,\n",
    "      'conspiracy': 0.0,\n",
    "      'bias': 0.0,\n",
    "      'hate': 0.0,\n",
    "      'junksci': 0.0,\n",
    "      'political': 1.0,\n",
    "      'unknown': 0.0,\n",
    "      'reliable': 1.0\n",
    "  })\n",
    "\n",
    "  # Replace NaN values with \"unknown\"\n",
    "  df.fillna(0.0, inplace=True)\n",
    "\n",
    "  # Verify the changes\n",
    "  df.info()\n",
    "\n",
    "\n",
    "Classificationtype(data_test)\n",
    "\n",
    "\n",
    "print(sum(data_test['type']))"
   ]
  },
  {
   "cell_type": "code",
   "execution_count": null,
   "metadata": {},
   "outputs": [],
   "source": [
    "# Load the tokenizer from the file\n",
    "with open('tokenizer.pkl', 'rb') as f:\n",
    "    tokenizer = pickle.load(f)\n",
    "\n",
    "print(\"Tokenizer loaded successfully!\")"
   ]
  },
  {
   "cell_type": "code",
   "execution_count": null,
   "metadata": {},
   "outputs": [],
   "source": [
    "X_test_seq = tokenizer.texts_to_sequences(data_test['content'])\n",
    "X_padded_test = pad_sequences(X_test_seq, maxlen=1700)\n",
    "X_test = X_padded_test\n",
    "y_test = data_test['type'].values"
   ]
  },
  {
   "cell_type": "code",
   "execution_count": null,
   "metadata": {},
   "outputs": [],
   "source": [
    "from sklearn.metrics import accuracy_score, confusion_matrix, f1_score, precision_score, recall_score\n",
    "\n",
    "loss, accuracy = model.evaluate(X_test, y_test)\n",
    "print(f\"Test Accuracy: {accuracy * 100:.2f}%\")\n",
    "\n",
    "# Predict on the test set\n",
    "y_pred = (model.predict(X_test) > 0.5).astype(\"int32\")\n",
    "\n",
    "# Calculate F1 score\n",
    "f1 = f1_score(y_test, y_pred)\n",
    "conf_matrix = confusion_matrix(y_test, y_pred)\n",
    "\n",
    "print(f\"F1 Score: {f1:.2f}\")\n",
    "print(\"Confusion Matrix:\\n\", conf_matrix)\n"
   ]
  }
 ],
 "metadata": {
  "language_info": {
   "name": "python"
  }
 },
 "nbformat": 4,
 "nbformat_minor": 2
}
