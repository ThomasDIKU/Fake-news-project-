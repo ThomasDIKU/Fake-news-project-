{
 "cells": [
  {
   "cell_type": "code",
   "execution_count": null,
   "metadata": {},
   "outputs": [],
   "source": [
    "import pandas as pd\n",
    "\n",
    "data = pd.read_csv(\"Data/955,000_rows_preprocessed.csv\", usecols=[\"type\", \"content\"]) #Read the CSV file\n"
   ]
  },
  {
   "cell_type": "code",
   "execution_count": null,
   "metadata": {},
   "outputs": [],
   "source": [
    "print(data['content'])\n",
    "print(type(data['content'].iloc[0]))\n",
    "\n",
    "average_length = data['content'].apply(len).median()\n",
    "\n",
    "print(f\"Median length: {average_length}\")\n"
   ]
  },
  {
   "cell_type": "code",
   "execution_count": null,
   "metadata": {},
   "outputs": [],
   "source": [
    "from tensorflow.keras.preprocessing.text import Tokenizer\n",
    "from tensorflow.keras.preprocessing.sequence import pad_sequences\n",
    "\n",
    "# Load your dataset (assuming df is your DataFrame)\n",
    "df = data.dropna(subset=['type', 'content']).copy()\n",
    "\n",
    "df['type'] = df['type'].map({\n",
    "    'unreliable': 0.0,\n",
    "    'fake': 0.0,\n",
    "    'clickbait': 1.0,\n",
    "    'conspiracy': 0.0,\n",
    "    'bias': 0.0,\n",
    "    'hate': 0.0,\n",
    "    'junksci': 0.0,\n",
    "    'political': 1.0,\n",
    "    'unknown': 0.0,\n",
    "    'reliable': 1.0\n",
    "})\n",
    "\n",
    "# Replace NaN values with \"unknown\"\n",
    "df.fillna(0.0, inplace=True)\n",
    "\n",
    "# Verify the changes\n",
    "df.info()\n",
    "\n",
    "# Tokenization\n",
    "tokenizer = Tokenizer(num_words=10000)  # Use top 10,000 words\n",
    "tokenizer.fit_on_texts(df['content'])\n",
    "\n",
    "# Convert text to sequences\n",
    "X_seq = tokenizer.texts_to_sequences(df['content']) # word embedding\n",
    "print(X_seq)\n",
    "\n",
    "# Padding sequences to ensure equal length\n",
    "X_padded = pad_sequences(X_seq, maxlen=int(1800))  # Max length of 1800 words\n",
    "\n",
    "# Extract labels\n",
    "y = df['type'].values\n",
    "print(y)\n",
    "#Runtime med 995,000 rows 11 min 45 sec"
   ]
  },
  {
   "cell_type": "code",
   "execution_count": null,
   "metadata": {},
   "outputs": [],
   "source": [
    "from sklearn.model_selection import train_test_split\n",
    "\n",
    "X_train, X_test, y_train, y_test = train_test_split(X_padded, y, test_size=0.2, random_state=0)\n"
   ]
  },
  {
   "cell_type": "code",
   "execution_count": null,
   "metadata": {},
   "outputs": [],
   "source": [
    "from tensorflow.keras.models import Sequential\n",
    "from tensorflow.keras.layers import Embedding, LSTM, Dense, Dropout\n",
    "from tensorflow.keras.optimizers import Adam\n",
    "\n",
    "\n",
    "\n",
    "model = Sequential([\n",
    "    Embedding(input_dim=10000, output_dim=128),  # Word Embeddings\n",
    "    LSTM(128, return_sequences=False),  # Main LSTM layer\n",
    "    Dropout(0.5),  # Prevent overfitting\n",
    "    Dense(64, activation='relu'),\n",
    "    Dense(1, activation='sigmoid')  # Binary Classification\n",
    "])\n",
    "\n",
    "model.compile(optimizer='adam', loss='binary_crossentropy', metrics=['accuracy'])\n"
   ]
  },
  {
   "cell_type": "code",
   "execution_count": null,
   "metadata": {},
   "outputs": [],
   "source": [
    "model.fit(X_train, y_train, epochs=10, batch_size=600, validation_split=0.2)\n"
   ]
  },
  {
   "cell_type": "code",
   "execution_count": null,
   "metadata": {},
   "outputs": [],
   "source": [
    "from sklearn.metrics import accuracy_score, confusion_matrix, f1_score, precision_score, recall_score\n",
    "\n",
    "loss, accuracy = model.evaluate(X_test, y_test)\n",
    "print(f\"Test Accuracy: {accuracy * 100:.2f}%\")\n",
    "\n",
    "y_pred = (model.predict(X_test) > 0.5).astype(\"int32\")\n",
    "\n",
    "f1 = f1_score(y_test, y_pred)\n",
    "conf_matrix = confusion_matrix(y_test, y_pred)\n",
    "\n",
    "print(f\"F1 Score: {f1:.2f}\")\n",
    "print(\"Confusion Matrix:\\n\", conf_matrix)\n"
   ]
  }
 ],
 "metadata": {
  "kernelspec": {
   "display_name": "base",
   "language": "python",
   "name": "python3"
  },
  "language_info": {
   "codemirror_mode": {
    "name": "ipython",
    "version": 3
   },
   "file_extension": ".py",
   "mimetype": "text/x-python",
   "name": "python",
   "nbconvert_exporter": "python",
   "pygments_lexer": "ipython3",
   "version": "3.12.7"
  }
 },
 "nbformat": 4,
 "nbformat_minor": 2
}
