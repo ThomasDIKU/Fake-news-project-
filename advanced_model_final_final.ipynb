{
  "cells": [
    {
      "cell_type": "markdown",
      "metadata": {
        "id": "g1gGTSTmI5XN"
      },
      "source": [
        "# Advanced model\n",
        "The advanced model was run on google collab"
      ]
    },
    {
      "cell_type": "markdown",
      "metadata": {
        "id": "aRLIhUNOJNre"
      },
      "source": [
        "## We begin by importing our data"
      ]
    },
    {
      "cell_type": "code",
      "execution_count": 1,
      "metadata": {
        "colab": {
          "base_uri": "https://localhost:8080/"
        },
        "id": "mfYZmofRol0m",
        "outputId": "8363eb78-c20a-45db-b841-2a4b63453911"
      },
      "outputs": [
        {
          "name": "stdout",
          "output_type": "stream",
          "text": [
            "Mounted at /content/drive\n"
          ]
        }
      ],
      "source": [
        "from google.colab import drive\n",
        "drive.mount('/content/drive')"
      ]
    },
    {
      "cell_type": "code",
      "execution_count": null,
      "metadata": {
        "id": "XSQK2JHXohss"
      },
      "outputs": [],
      "source": [
        "import pandas as pd\n",
        "\n",
        "#runtime 1 min\n",
        "data_train = pd.read_csv(\"/content/drive/My Drive/995,000_rows_preprocessed_train.csv\", usecols=[\"type\", \"content\"]) #Read the CSV file\n",
        "data_val = pd.read_csv(\"/content/drive/My Drive/995,000_rows_preprocessed_valid.csv\", usecols=[\"type\", \"content\"]) #Read the CSV file\n",
        "data_test = pd.read_csv(\"/content/drive/My Drive/995,000_rows_preprocessed_test.csv\", usecols=[\"type\", \"content\"]) #Read the CSV file\n"
      ]
    },
    {
      "cell_type": "markdown",
      "metadata": {
        "id": "abNAhxzvJYO-"
      },
      "source": [
        "## We validate our data and find the median length"
      ]
    },
    {
      "cell_type": "code",
      "execution_count": 5,
      "metadata": {
        "colab": {
          "base_uri": "https://localhost:8080/"
        },
        "id": "bfhE_xWPohsv",
        "outputId": "6c632cbd-37bc-4f62-c857-3863dd186550"
      },
      "outputs": [
        {
          "name": "stdout",
          "output_type": "stream",
          "text": [
            "0         ['news', 'presid', 'obama', 'hillari', 'clinto...\n",
            "1         ['local', 'area', 'man', 'afraid', 'woman', 'm...\n",
            "2         ['belhanda', 'north', 'london', 'outfit', \"'s\"...\n",
            "3         ['appl', 'iphon', '<num>', 'pre-ord', 'success...\n",
            "4         ['fight', 'night', 'bad', 'box', 'make', 'good...\n",
            "                                ...                        \n",
            "408205    ['fourth', 'weekend', 'theater', ',', '—', '62...\n",
            "408206    ['govern', 'releas', 'retail', 'sale', 'report...\n",
            "408207    ['�risk�', 'fill', 'ib', 'esa', 'transfer', 'm...\n",
            "408208    ['februari', ',', 'nasa', 'announc', 'discover...\n",
            "408209    ['categori', '#', 'cruzsexscand', '$', '$', '<...\n",
            "Name: content, Length: 408210, dtype: object\n",
            "0        ['social', 'secur', 'built', 'array', 'broken'...\n",
            "1        ['<num>', 'views0', 'like', '<url>', 'resid', ...\n",
            "2        [\"'\", 'alway', 'feel', 'better', 'exercis', 'm...\n",
            "3        ['refocu', 'note', ':', '’', 'west', ',', 'mid...\n",
            "4        ['•', 'hain', 'celesti', 'group', ',', 'inc.',...\n",
            "                               ...                        \n",
            "51021    ['donald', 'trump', ':', 'berni', 'sander', '‘...\n",
            "51022    ['today', '’', 'press', 'gaggl', ',', 'report'...\n",
            "51023    ['’', 'gener', 'see', 'much', 'way', 'fall', '...\n",
            "51024    ['climat', 'chang', 'creat', 'new', 'gener', '...\n",
            "51025    ['day', 'crack', 'open', 'abruptli', 'nausea',...\n",
            "Name: content, Length: 51026, dtype: object\n",
            "0        ['``', 'subobject', \"''\", 'predefin', 'propert...\n",
            "1        ['decis', 'import', 'liquefi', 'natur', 'ga', ...\n",
            "2        ['cnn', 'get', 'faa', 'waiver', 'fli', 'drone'...\n",
            "3        ['headlin', ':', 'work', 'american', 'stand', ...\n",
            "4        ['tom', 'clanci', '’', 'divis', 'best', 'day',...\n",
            "                               ...                        \n",
            "51022    ['planet', 'x', 'visibl', ',', 'may', '<num>',...\n",
            "51023    ['<num>', ',', 'time', 'life', 'jade', ',', 'w...\n",
            "51024    ['president-elect', 'donald', 'trump', '’', 'n...\n",
            "51025    ['search', 'properti', 'list', 'page', 'proper...\n",
            "51026    ['maureen', 'dowd', 'screen', '“', 'fair', 'ga...\n",
            "Name: content, Length: 51027, dtype: object\n",
            "Median length: 1736.0\n"
          ]
        }
      ],
      "source": [
        "print(data_train['content'])\n",
        "print(data_val['content'])\n",
        "print(data_test['content'])\n",
        "\n",
        "average_length = data_train['content'].apply(len).median()\n",
        "\n",
        "print(f\"Median length: {average_length}\")\n"
      ]
    },
    {
      "cell_type": "markdown",
      "metadata": {
        "id": "X-tn_Qk3Ld1j"
      },
      "source": [
        "## We then Classify our types into binary. We use 1 for reliable news, 0 for fake news. Check for missing values and them to 0.0"
      ]
    },
    {
      "cell_type": "code",
      "execution_count": null,
      "metadata": {
        "colab": {
          "base_uri": "https://localhost:8080/"
        },
        "id": "DbR8fRZ4GiCY",
        "outputId": "5242d607-bd62-417d-886f-41edcf96df32"
      },
      "outputs": [
        {
          "name": "stdout",
          "output_type": "stream",
          "text": [
            "<class 'pandas.core.frame.DataFrame'>\n",
            "RangeIndex: 408210 entries, 0 to 408209\n",
            "Data columns (total 2 columns):\n",
            " #   Column   Non-Null Count   Dtype  \n",
            "---  ------   --------------   -----  \n",
            " 0   type     408210 non-null  float64\n",
            " 1   content  408210 non-null  object \n",
            "dtypes: float64(1), object(1)\n",
            "memory usage: 6.2+ MB\n",
            "<class 'pandas.core.frame.DataFrame'>\n",
            "RangeIndex: 51026 entries, 0 to 51025\n",
            "Data columns (total 2 columns):\n",
            " #   Column   Non-Null Count  Dtype  \n",
            "---  ------   --------------  -----  \n",
            " 0   type     51026 non-null  float64\n",
            " 1   content  51026 non-null  object \n",
            "dtypes: float64(1), object(1)\n",
            "memory usage: 797.4+ KB\n",
            "<class 'pandas.core.frame.DataFrame'>\n",
            "RangeIndex: 51027 entries, 0 to 51026\n",
            "Data columns (total 2 columns):\n",
            " #   Column   Non-Null Count  Dtype  \n",
            "---  ------   --------------  -----  \n",
            " 0   type     51027 non-null  float64\n",
            " 1   content  51027 non-null  object \n",
            "dtypes: float64(1), object(1)\n",
            "memory usage: 797.4+ KB\n",
            "121335.0\n",
            "15227.0\n",
            "15085.0\n"
          ]
        }
      ],
      "source": [
        "from tensorflow.keras.preprocessing.text import Tokenizer\n",
        "from tensorflow.keras.preprocessing.sequence import pad_sequences\n",
        "\n",
        "# Load your dataset (assuming df is your DataFrame)\n",
        "#df = data.dropna(subset=['type', 'content']).copy()\n",
        "\n",
        "def Classificationtype(df):\n",
        "  df['type'] = df['type'].map({\n",
        "      'unreliable': 0.0,\n",
        "      'fake': 0.0,\n",
        "      'clickbait': 1.0,\n",
        "      'conspiracy': 0.0,\n",
        "      'bias': 0.0,\n",
        "      'hate': 0.0,\n",
        "      'junksci': 0.0,\n",
        "      'political': 1.0,\n",
        "      'unknown': 0.0,\n",
        "      'reliable': 1.0\n",
        "  })\n",
        "\n",
        "  # Replace NaN values with \"unknown\"\n",
        "  df.fillna(0.0, inplace=True)\n",
        "\n",
        "  # Verify the changes\n",
        "  df.info()\n",
        "\n",
        "\n",
        "Classificationtype(data_train)\n",
        "Classificationtype(data_val)\n",
        "Classificationtype(data_test)\n",
        "\n",
        "print(sum(data_train['type']))\n",
        "print(sum(data_val['type']))\n",
        "print(sum(data_test['type']))\n",
        "\n"
      ]
    },
    {
      "cell_type": "markdown",
      "metadata": {
        "id": "AkPAoGCGPROc"
      },
      "source": [
        "##  accordance with Zipf’s law2, we limit the vocabulary to the top 10,000 most frequent words in the Fake News corpus and pad sequences to the median article length of 1,700 tokens. We also extract the types from the train subset."
      ]
    },
    {
      "cell_type": "code",
      "execution_count": 21,
      "metadata": {
        "id": "5JYVoKiaOeLh"
      },
      "outputs": [],
      "source": [
        "# Fit tokenizer on training data\n",
        "tokenizer = Tokenizer(num_words=10000)\n",
        "tokenizer.fit_on_texts(data_train['content'])\n",
        "\n",
        "# Convert texts to sequences using the same tokenizer\n",
        "X_train_seq = tokenizer.texts_to_sequences(data_train['content'])\n",
        "X_val_seq = tokenizer.texts_to_sequences(data_val['content'])\n",
        "X_test_seq = tokenizer.texts_to_sequences(data_test['content'])\n",
        "\n",
        "# Padding sequences\n",
        "X_padded_train = pad_sequences(X_train_seq, maxlen=1700)\n",
        "X_padded_val = pad_sequences(X_val_seq, maxlen=1700)\n",
        "X_padded_test = pad_sequences(X_test_seq, maxlen=1700)\n",
        "\n",
        "y = data_train['type'].values\n",
        "#Runtime med 995,000 rows 11 min 45 sec"
      ]
    },
    {
      "cell_type": "markdown",
      "metadata": {},
      "source": [
        "# save tokenizer"
      ]
    },
    {
      "cell_type": "code",
      "execution_count": null,
      "metadata": {},
      "outputs": [],
      "source": [
        "import pickle\n",
        "\n",
        "# Save the tokenizer to a file\n",
        "with open('tokenizer.pkl', 'wb') as f:\n",
        "    pickle.dump(tokenizer, f)\n",
        "\n",
        "print(\"Tokenizer saved successfully!\")"
      ]
    },
    {
      "cell_type": "markdown",
      "metadata": {
        "id": "mylfb8YGXvQO"
      },
      "source": [
        "## Reassign the different value to fit the model"
      ]
    },
    {
      "cell_type": "code",
      "execution_count": 23,
      "metadata": {
        "id": "CH3dA-yRIJTt"
      },
      "outputs": [],
      "source": [
        "X_train = X_padded_train\n",
        "X_test = X_padded_test\n",
        "X_val = X_padded_val\n",
        "y_train = data_train['type'].values\n",
        "y_test = data_test['type'].values\n",
        "y_val = data_val['type'].values"
      ]
    },
    {
      "cell_type": "markdown",
      "metadata": {
        "id": "jS2tw_h6X0gA"
      },
      "source": [
        "## Constrcuting the advanced model using a  hybrid LSTM (Long Short-Term Memory) and FNN (Feed-forward Neural Network) architecture"
      ]
    },
    {
      "cell_type": "code",
      "execution_count": 25,
      "metadata": {
        "id": "82eW26Hwohsw"
      },
      "outputs": [],
      "source": [
        "from tensorflow.keras.models import Sequential\n",
        "from tensorflow.keras.layers import Embedding, LSTM, Dense, Dropout, Conv1D, MaxPooling1D\n",
        "from tensorflow.keras.optimizers import Adam\n",
        "\n",
        "model = Sequential([\n",
        "    Embedding(input_dim=10000, output_dim=128),  # Word embeddings\n",
        "    LSTM(128),  # Sequence modeling on abstracted features\n",
        "    Dropout(0.6),\n",
        "    Dense(64, activation='relu'),\n",
        "    Dense(1, activation='sigmoid')  # Binary classification\n",
        "])\n",
        "\n",
        "model.compile(optimizer='adam', loss='binary_crossentropy', metrics=['accuracy'])\n"
      ]
    },
    {
      "cell_type": "markdown",
      "metadata": {
        "id": "APD04P7bX8Np"
      },
      "source": [
        "## training the model with 10 epochs and a batch size of 600."
      ]
    },
    {
      "cell_type": "code",
      "execution_count": 26,
      "metadata": {
        "colab": {
          "base_uri": "https://localhost:8080/"
        },
        "id": "GiM5vqOKohsx",
        "outputId": "477580b6-f4a4-4c44-dcb8-deaa5b49adb2"
      },
      "outputs": [
        {
          "name": "stdout",
          "output_type": "stream",
          "text": [
            "Epoch 1/10\n",
            "\u001b[1m681/681\u001b[0m \u001b[32m━━━━━━━━━━━━━━━━━━━━\u001b[0m\u001b[37m\u001b[0m \u001b[1m77s\u001b[0m 109ms/step - accuracy: 0.8015 - loss: 0.4158 - val_accuracy: 0.8540 - val_loss: 0.3153\n",
            "Epoch 2/10\n",
            "\u001b[1m681/681\u001b[0m \u001b[32m━━━━━━━━━━━━━━━━━━━━\u001b[0m\u001b[37m\u001b[0m \u001b[1m73s\u001b[0m 107ms/step - accuracy: 0.8694 - loss: 0.2870 - val_accuracy: 0.8788 - val_loss: 0.2616\n",
            "Epoch 3/10\n",
            "\u001b[1m681/681\u001b[0m \u001b[32m━━━━━━━━━━━━━━━━━━━━\u001b[0m\u001b[37m\u001b[0m \u001b[1m73s\u001b[0m 108ms/step - accuracy: 0.8961 - loss: 0.2318 - val_accuracy: 0.8906 - val_loss: 0.2450\n",
            "Epoch 4/10\n",
            "\u001b[1m681/681\u001b[0m \u001b[32m━━━━━━━━━━━━━━━━━━━━\u001b[0m\u001b[37m\u001b[0m \u001b[1m73s\u001b[0m 108ms/step - accuracy: 0.9038 - loss: 0.2138 - val_accuracy: 0.8930 - val_loss: 0.2398\n",
            "Epoch 5/10\n",
            "\u001b[1m681/681\u001b[0m \u001b[32m━━━━━━━━━━━━━━━━━━━━\u001b[0m\u001b[37m\u001b[0m \u001b[1m73s\u001b[0m 107ms/step - accuracy: 0.8904 - loss: 0.2414 - val_accuracy: 0.8865 - val_loss: 0.2508\n",
            "Epoch 6/10\n",
            "\u001b[1m681/681\u001b[0m \u001b[32m━━━━━━━━━━━━━━━━━━━━\u001b[0m\u001b[37m\u001b[0m \u001b[1m73s\u001b[0m 108ms/step - accuracy: 0.9134 - loss: 0.1933 - val_accuracy: 0.8896 - val_loss: 0.2522\n",
            "Epoch 7/10\n",
            "\u001b[1m681/681\u001b[0m \u001b[32m━━━━━━━━━━━━━━━━━━━━\u001b[0m\u001b[37m\u001b[0m \u001b[1m73s\u001b[0m 108ms/step - accuracy: 0.9107 - loss: 0.1967 - val_accuracy: 0.8883 - val_loss: 0.2475\n",
            "Epoch 8/10\n",
            "\u001b[1m681/681\u001b[0m \u001b[32m━━━━━━━━━━━━━━━━━━━━\u001b[0m\u001b[37m\u001b[0m \u001b[1m74s\u001b[0m 108ms/step - accuracy: 0.9205 - loss: 0.1768 - val_accuracy: 0.8762 - val_loss: 0.2758\n",
            "Epoch 9/10\n",
            "\u001b[1m681/681\u001b[0m \u001b[32m━━━━━━━━━━━━━━━━━━━━\u001b[0m\u001b[37m\u001b[0m \u001b[1m74s\u001b[0m 108ms/step - accuracy: 0.9068 - loss: 0.2078 - val_accuracy: 0.8924 - val_loss: 0.2611\n",
            "Epoch 10/10\n",
            "\u001b[1m681/681\u001b[0m \u001b[32m━━━━━━━━━━━━━━━━━━━━\u001b[0m\u001b[37m\u001b[0m \u001b[1m74s\u001b[0m 109ms/step - accuracy: 0.9278 - loss: 0.1623 - val_accuracy: 0.8937 - val_loss: 0.2601\n"
          ]
        },
        {
          "data": {
            "text/plain": [
              "<keras.src.callbacks.history.History at 0x7f3eb2866110>"
            ]
          },
          "execution_count": 26,
          "metadata": {},
          "output_type": "execute_result"
        }
      ],
      "source": [
        "model.fit(X_train, y_train, epochs=10, batch_size=600, validation_data=(X_val, y_val))\n"
      ]
    },
    {
      "cell_type": "markdown",
      "metadata": {
        "id": "Hxx09vPjX_HM"
      },
      "source": [
        "## calculating accuracy, confusion matrix and f1-score"
      ]
    },
    {
      "cell_type": "code",
      "execution_count": 27,
      "metadata": {
        "colab": {
          "base_uri": "https://localhost:8080/"
        },
        "id": "A9PaNLMVohsx",
        "outputId": "723d1e06-fe2f-4534-a6bc-3e69bd7dfe41"
      },
      "outputs": [
        {
          "name": "stdout",
          "output_type": "stream",
          "text": [
            "\u001b[1m1595/1595\u001b[0m \u001b[32m━━━━━━━━━━━━━━━━━━━━\u001b[0m\u001b[37m\u001b[0m \u001b[1m35s\u001b[0m 22ms/step - accuracy: 0.8953 - loss: 0.2577\n",
            "Test Accuracy: 89.54%\n",
            "\u001b[1m1595/1595\u001b[0m \u001b[32m━━━━━━━━━━━━━━━━━━━━\u001b[0m\u001b[37m\u001b[0m \u001b[1m32s\u001b[0m 20ms/step\n",
            "F1 Score: 0.82\n",
            "Confusion Matrix:\n",
            " [[33516  2426]\n",
            " [ 2911 12174]]\n"
          ]
        }
      ],
      "source": [
        "from sklearn.metrics import accuracy_score, confusion_matrix, f1_score, precision_score, recall_score\n",
        "\n",
        "loss, accuracy = model.evaluate(X_test, y_test)\n",
        "print(f\"Test Accuracy: {accuracy * 100:.2f}%\")\n",
        "\n",
        "# Predict on the test set\n",
        "y_pred = (model.predict(X_test) > 0.5).astype(\"int32\")\n",
        "\n",
        "# Calculate F1 score\n",
        "f1 = f1_score(y_test, y_pred)\n",
        "conf_matrix = confusion_matrix(y_test, y_pred)\n",
        "\n",
        "print(f\"F1 Score: {f1:.2f}\")\n",
        "print(\"Confusion Matrix:\\n\", conf_matrix)\n"
      ]
    },
    {
      "cell_type": "markdown",
      "metadata": {
        "id": "Z7VtzWphYdbh"
      },
      "source": [
        "## Check for overfitting - slight overfitting, however it's an acceptable amount"
      ]
    },
    {
      "cell_type": "code",
      "execution_count": 28,
      "metadata": {
        "colab": {
          "base_uri": "https://localhost:8080/"
        },
        "id": "LvD-PCoGi4B1",
        "outputId": "dd39bc20-4e52-40fe-861d-52b6b2bb3649"
      },
      "outputs": [
        {
          "name": "stdout",
          "output_type": "stream",
          "text": [
            "\u001b[1m12757/12757\u001b[0m \u001b[32m━━━━━━━━━━━━━━━━━━━━\u001b[0m\u001b[37m\u001b[0m \u001b[1m257s\u001b[0m 20ms/step\n",
            "\u001b[1m1595/1595\u001b[0m \u001b[32m━━━━━━━━━━━━━━━━━━━━\u001b[0m\u001b[37m\u001b[0m \u001b[1m32s\u001b[0m 20ms/step\n",
            "F1 Score (Train): 0.90\n",
            "F1 Score (Test): 0.82\n"
          ]
        }
      ],
      "source": [
        "from sklearn.metrics import f1_score\n",
        "\n",
        "# For training set\n",
        "y_train_pred = (model.predict(X_train) > 0.5).astype(\"int32\")\n",
        "f1_train = f1_score(y_train, y_train_pred)\n",
        "\n",
        "# For test set\n",
        "y_test_pred = (model.predict(X_test) > 0.5).astype(\"int32\")\n",
        "f1_test = f1_score(y_test, y_test_pred)\n",
        "\n",
        "print(f\"F1 Score (Train): {f1_train:.2f}\")\n",
        "print(f\"F1 Score (Test): {f1_test:.2f}\")\n"
      ]
    },
    {
      "cell_type": "markdown",
      "metadata": {
        "id": "aaeJ8txHYivR"
      },
      "source": [
        "## Roc Curve"
      ]
    },
    {
      "cell_type": "code",
      "execution_count": 29,
      "metadata": {
        "colab": {
          "base_uri": "https://localhost:8080/",
          "height": 490
        },
        "id": "NP-nd58JgG3t",
        "outputId": "43af70e0-f403-4cb8-8580-8b72a1aa2859"
      },
      "outputs": [
        {
          "name": "stdout",
          "output_type": "stream",
          "text": [
            "\u001b[1m1595/1595\u001b[0m \u001b[32m━━━━━━━━━━━━━━━━━━━━\u001b[0m\u001b[37m\u001b[0m \u001b[1m32s\u001b[0m 20ms/step\n"
          ]
        },
        {
          "data": {
            "image/png": "[encoded data removed]",
            "text/plain": [
              "<Figure size 640x480 with 1 Axes>"
            ]
          },
          "metadata": {},
          "output_type": "display_data"
        }
      ],
      "source": [
        "from sklearn.metrics import roc_curve, auc\n",
        "import matplotlib.pyplot as plt\n",
        "\n",
        "# Predict probabilities (not classes)\n",
        "y_pred_proba = model.predict(X_test)\n",
        "\n",
        "# Compute ROC curve and AUC\n",
        "fpr, tpr, thresholds = roc_curve(y_test, y_pred_proba)\n",
        "roc_auc = auc(fpr, tpr)\n",
        "\n",
        "# Plot ROC curve\n",
        "plt.figure()\n",
        "plt.plot(fpr, tpr, label=f'ROC curve (AUC = {roc_auc:.2f})')\n",
        "plt.plot([0, 1], [0, 1], 'k--')  # Diagonal line\n",
        "plt.xlim([0.0, 1.0])\n",
        "plt.ylim([0.0, 1.05])\n",
        "plt.xlabel('False Positive Rate')\n",
        "plt.ylabel('True Positive Rate')\n",
        "plt.title('Receiver Operating Characteristic')\n",
        "plt.legend(loc='lower right')\n",
        "plt.grid()\n",
        "plt.show()\n"
      ]
    },
    {
      "cell_type": "markdown",
      "metadata": {
        "id": "tK6ijnRTYmTT"
      },
      "source": [
        "## Save model"
      ]
    },
    {
      "cell_type": "code",
      "execution_count": 30,
      "metadata": {
        "id": "exS30OJPlI5R"
      },
      "outputs": [],
      "source": [
        "model.save('my_model_v2.keras')  # Use .h5 extension\n",
        "\n"
      ]
    },
    {
      "cell_type": "markdown",
      "metadata": {},
      "source": [
        "Link to colab https://colab.research.google.com/drive/15SFTOJklc6EVGa7HaUN7HCdAehnE07Lj"
      ]
    }
  ],
  "metadata": {
    "accelerator": "GPU",
    "colab": {
      "gpuType": "A100",
      "machine_shape": "hm",
      "provenance": []
    },
    "kernelspec": {
      "display_name": "Python 3",
      "name": "python3"
    },
    "language_info": {
      "codemirror_mode": {
        "name": "ipython",
        "version": 3
      },
      "file_extension": ".py",
      "mimetype": "text/x-python",
      "name": "python",
      "nbconvert_exporter": "python",
      "pygments_lexer": "ipython3",
      "version": "3.12.7"
    }
  },
  "nbformat": 4,
  "nbformat_minor": 0
}
