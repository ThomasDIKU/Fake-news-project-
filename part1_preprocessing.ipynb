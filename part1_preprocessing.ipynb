{
 "cells": [
  {
   "cell_type": "markdown",
   "metadata": {},
   "source": [
    "# **Task 1**"
   ]
  },
  {
   "cell_type": "markdown",
   "metadata": {},
   "source": [
    "### Import libraries and functions"
   ]
  },
  {
   "cell_type": "code",
   "execution_count": 2,
   "metadata": {
    "colab": {
     "base_uri": "https://localhost:8080/"
    },
    "id": "eqJbGIiOnuZ7",
    "outputId": "41452363-2eb1-49ea-8611-daa8bc1901d2"
   },
   "outputs": [
    {
     "name": "stderr",
     "output_type": "stream",
     "text": [
      "Since the GPL-licensed package `unidecode` is not installed, using Python's `unicodedata` package which yields worse results.\n"
     ]
    }
   ],
   "source": [
    "# Import libraries\n",
    "import pandas as pd\n",
    "import numpy as np\n",
    "from cleantext import clean\n",
    "import matplotlib.pyplot as plt\n",
    "from nltk.probability import FreqDist\n",
    "import ast"
   ]
  },
  {
   "cell_type": "code",
   "execution_count": 1,
   "metadata": {},
   "outputs": [],
   "source": [
    "# Run these lines if you have not installed nltk\n",
    "\n",
    "#import nltk\n",
    "#nltk.download('all')"
   ]
  },
  {
   "cell_type": "code",
   "execution_count": 3,
   "metadata": {},
   "outputs": [],
   "source": [
    "# Import our preprocessing functions\n",
    "from preprocessingFunctions import clean_text, tokenize, removeStopWords, stemming"
   ]
  },
  {
   "cell_type": "markdown",
   "metadata": {},
   "source": [
    "### Load data as dataframe"
   ]
  },
  {
   "cell_type": "code",
   "execution_count": 4,
   "metadata": {
    "id": "OZvZBQj2oe7X"
   },
   "outputs": [],
   "source": [
    "corpusSample = pd.read_csv(\"fakenewscorpus_data/250_rows.csv\")"
   ]
  },
  {
   "cell_type": "markdown",
   "metadata": {},
   "source": [
    "### Clean ```content``` variable"
   ]
  },
  {
   "cell_type": "code",
   "execution_count": 5,
   "metadata": {},
   "outputs": [],
   "source": [
    "content_sample_cleaned = corpusSample['content'].apply(clean_text) "
   ]
  },
  {
   "cell_type": "markdown",
   "metadata": {},
   "source": [
    "### Tokenize ```content``` variable"
   ]
  },
  {
   "cell_type": "code",
   "execution_count": 6,
   "metadata": {},
   "outputs": [],
   "source": [
    "content_sample_tokenized = content_sample_cleaned.apply(tokenize)"
   ]
  },
  {
   "cell_type": "markdown",
   "metadata": {},
   "source": [
    "### Remove stop words from `content` variable"
   ]
  },
  {
   "cell_type": "code",
   "execution_count": 7,
   "metadata": {},
   "outputs": [],
   "source": [
    "content_sample_no_stop_words = content_sample_tokenized.apply(removeStopWords)"
   ]
  },
  {
   "cell_type": "markdown",
   "metadata": {},
   "source": [
    "### Perform stemming on ```content``` variable"
   ]
  },
  {
   "cell_type": "code",
   "execution_count": 8,
   "metadata": {},
   "outputs": [],
   "source": [
    "content_sample_stemmed = content_sample_no_stop_words.apply(stemming)"
   ]
  },
  {
   "cell_type": "markdown",
   "metadata": {},
   "source": [
    "### Reduction rates"
   ]
  },
  {
   "cell_type": "code",
   "execution_count": 9,
   "metadata": {},
   "outputs": [
    {
     "name": "stdout",
     "output_type": "stream",
     "text": [
      "Size of vocabulary after tokenization: 16887\n",
      "\n",
      "Size of vocabulary after removal of stop words: 16752\n",
      "\n",
      "Size of vocabulary after stemming: 11590\n",
      "\n",
      "Reduction rate of the vocabulary size after removing stopwords: 0.8\n",
      "\n",
      "Reduction rate of the vocabulary size after stemming: 30.81\n",
      "\n"
     ]
    }
   ],
   "source": [
    "# Using FreqDist() we can see the vocabulary as well as the frequence of each token\n",
    "tokens_after_tokenization = [x.strip(\"'\") for l in content_sample_tokenized for x in l]\n",
    "tokens_after_tokenization_vocab = FreqDist(tokens_after_tokenization)\n",
    "\n",
    "tokens_after_removing_stop_words = [x.strip(\"'\") for l in content_sample_no_stop_words for x in l]\n",
    "tokens_after_removing_stop_words_vocab = FreqDist(tokens_after_removing_stop_words)\n",
    "\n",
    "tokens_after_stemming = [x.strip(\"'\") for l in content_sample_stemmed for x in l]\n",
    "tokens_after_stemming_vocab = FreqDist(tokens_after_stemming)\n",
    "\n",
    "print(f\"Size of vocabulary after tokenization: {len(tokens_after_tokenization_vocab)}\\n\")\n",
    "\n",
    "print(f\"Size of vocabulary after removal of stop words: {len(tokens_after_removing_stop_words_vocab)}\\n\")\n",
    "\n",
    "print(f\"Size of vocabulary after stemming: {len(tokens_after_stemming_vocab)}\\n\")\n",
    "\n",
    "print(f\"Reduction rate of the vocabulary size after removing stopwords: {round((len(tokens_after_tokenization_vocab)\n",
    "                                    - len(tokens_after_removing_stop_words_vocab)) / \n",
    "                                    len(tokens_after_tokenization_vocab) * 100, 2)}\\n\")\n",
    "\n",
    "print(f\"Reduction rate of the vocabulary size after stemming: {round((len(tokens_after_removing_stop_words_vocab)\n",
    "                                    - len(tokens_after_stemming_vocab)) / \n",
    "                                    len(tokens_after_removing_stop_words_vocab) * 100, 2)}\\n\")"
   ]
  },
  {
   "cell_type": "code",
   "execution_count": null,
   "metadata": {},
   "outputs": [],
   "source": [
    "# Add preprocessed 'corpus' variable to corpus sample:\n",
    "corpusSamplePreprocessed = corpusSample\n",
    "corpusSamplePreprocessed['content'] = content_sample_stemmed"
   ]
  },
  {
   "cell_type": "markdown",
   "metadata": {},
   "source": [
    "# **Task 2**"
   ]
  },
  {
   "cell_type": "markdown",
   "metadata": {},
   "source": [
    "### Initial clean up: Remove non-relevant features, remove rows with invalid values and remove row duplicates"
   ]
  },
  {
   "cell_type": "code",
   "execution_count": null,
   "metadata": {},
   "outputs": [],
   "source": [
    "# Load data as data frame. Load either full corpus or sample with 15,000 rows.\n",
    "\n",
    "corpus = pd.read_csv(\"fakenewscorpus_data/995,000_rows.csv\")\n",
    "#corpus = pd.read_csv(\"fakenewscorpus_data/15,000_rows.csv\")"
   ]
  },
  {
   "cell_type": "code",
   "execution_count": null,
   "metadata": {},
   "outputs": [],
   "source": [
    "# Keep only potentially usefull features\n",
    "corpus = corpus[['domain','type', 'scraped_at', 'content', 'title', 'authors', 'meta_description']]"
   ]
  },
  {
   "cell_type": "code",
   "execution_count": null,
   "metadata": {},
   "outputs": [],
   "source": [
    "# Remove data points where 'type' is '2018-02-10 13:43:39.521661', since\n",
    "# this type is not classifiable as fake/reliable\n",
    "corpus = corpus.drop(corpus[corpus['type'] == '2018-02-10 13:43:39.521661'].index)"
   ]
  },
  {
   "cell_type": "code",
   "execution_count": null,
   "metadata": {},
   "outputs": [],
   "source": [
    "# Remove data points where 'type' is 'unknown', since this type is not \n",
    "# classifiable as fake/reliable\n",
    "corpus = corpus.drop(corpus[corpus['type'] == 'unknown'].index)"
   ]
  },
  {
   "cell_type": "code",
   "execution_count": null,
   "metadata": {},
   "outputs": [],
   "source": [
    "# Remove articles written in russian, french or dutch\n",
    "corpus = corpus.drop(corpus[corpus['domain'] == 'pravda.ru'].index)\n",
    "corpus = corpus.drop(corpus[corpus['domain'] == 'legorafi.fr'].index)\n",
    "corpus = corpus.drop(corpus[corpus['domain'] == 'speld.nl'].index)"
   ]
  },
  {
   "cell_type": "code",
   "execution_count": null,
   "metadata": {},
   "outputs": [],
   "source": [
    "# Remove data points where either 'type' or 'content' is NaN\n",
    "corpus = corpus[corpus['type'].notna() & corpus['content'].notna()]"
   ]
  },
  {
   "cell_type": "code",
   "execution_count": null,
   "metadata": {},
   "outputs": [],
   "source": [
    "# Remove duplicates - there are 66.232 duplicated rows in full dataset.\n",
    "corpus = corpus.drop_duplicates()"
   ]
  },
  {
   "cell_type": "markdown",
   "metadata": {},
   "source": [
    "### Preprocessing: Clean, tokenize, remove stop words and perform stemming"
   ]
  },
  {
   "cell_type": "code",
   "execution_count": null,
   "metadata": {},
   "outputs": [],
   "source": [
    "# Clean 'content' and save data frame as .csv file\n",
    "corpus['content'] = corpus['content'].apply(clean_text)\n",
    "# corpus.to_csv('corpus_cleaned.csv', index=False)"
   ]
  },
  {
   "cell_type": "code",
   "execution_count": null,
   "metadata": {},
   "outputs": [],
   "source": [
    "# Tokenize 'content' and save data frame as .csv file\n",
    "corpus['content'] = corpus['content'].apply(tokenize)\n",
    "# corpus.to_csv('corpus_tokenized.csv', index=False)"
   ]
  },
  {
   "cell_type": "code",
   "execution_count": null,
   "metadata": {},
   "outputs": [],
   "source": [
    "# Remove stop words from 'content' and save data frame as .csv file\n",
    "corpus['content'] = corpus['content'].apply(removeStopWords)\n",
    "# corpus.to_csv('corpus_no_stop_words.csv', index=False)"
   ]
  },
  {
   "cell_type": "code",
   "execution_count": null,
   "metadata": {},
   "outputs": [],
   "source": [
    "# Perform stemming on 'content' and save data frame as .csv file\n",
    "corpus['content'] = corpus['content'].apply(stemming)\n",
    "corpus.to_csv('fakenewscorpus_data/995,000_rows_preprocessed.csv', index=False)\n",
    "#corpus.to_csv('fakenewscorpus_data/15,000_rows_preprocessed.csv', index=False)"
   ]
  },
  {
   "cell_type": "markdown",
   "metadata": {},
   "source": [
    "# Task 3 - exploring preprocessed dataset"
   ]
  },
  {
   "cell_type": "code",
   "execution_count": 5,
   "metadata": {},
   "outputs": [],
   "source": [
    "# Load preprocessed corpus (if you want to skip the preprocessing steps above).\n",
    "# Load either full preprocessed dataset or the preprocessed sample with 15,000 rows.\n",
    "\n",
    "#corpus = pd.read_csv(\"fakenewscorpus_data/15,000_rows_preprocessed.csv\")\n",
    "corpus = pd.read_csv(\"fakenewscorpus_data/995,000_rows_preprocessed.csv\")"
   ]
  },
  {
   "cell_type": "code",
   "execution_count": 6,
   "metadata": {},
   "outputs": [],
   "source": [
    "# After loading the .csv file as dataframe remember to convert the data type of \n",
    "# 'content' from string back to list:\n",
    "\n",
    "corpus['content'] = corpus['content'].apply(ast.literal_eval)"
   ]
  },
  {
   "cell_type": "markdown",
   "metadata": {},
   "source": [
    "### Looking into 'domain'"
   ]
  },
  {
   "cell_type": "code",
   "execution_count": 7,
   "metadata": {},
   "outputs": [
    {
     "name": "stdout",
     "output_type": "stream",
     "text": [
      "Number of unique values in 'domain': 555\n"
     ]
    }
   ],
   "source": [
    "print(f\"Number of unique values in 'domain': {len(set(corpus['domain']))}\")"
   ]
  },
  {
   "cell_type": "code",
   "execution_count": 8,
   "metadata": {},
   "outputs": [
    {
     "name": "stdout",
     "output_type": "stream",
     "text": [
      "All texts from a particular domain is of the same type!\n"
     ]
    }
   ],
   "source": [
    "# Here we see that all texts from a particular domain is of the same type\n",
    "boolian_value = True\n",
    "for x in set(corpus['domain']):\n",
    "    df_subset = corpus[corpus[\"domain\"] == x]\n",
    "    if(len(set(df_subset['type']))) != 1:\n",
    "        print(x)\n",
    "        boolian_value = False\n",
    "\n",
    "if boolian_value:\n",
    "    print(\"All texts from a particular domain is of the same type!\")"
   ]
  },
  {
   "cell_type": "code",
   "execution_count": 9,
   "metadata": {},
   "outputs": [
    {
     "name": "stdout",
     "output_type": "stream",
     "text": [
      "The 10 domains with the most articles:\n",
      "             unique_values  counts\n",
      "0              nytimes.com  176144\n",
      "1        beforeitsnews.com   90925\n",
      "2             dailykos.com   75812\n",
      "3            express.co.uk   55904\n",
      "4          sputniknews.com   37171\n",
      "5            wikileaks.org   23301\n",
      "6       abovetopsecret.com   19566\n",
      "7            lifezette.com    9005\n",
      "8  investmentwatchblog.com    8041\n",
      "9          dailycaller.com    7807\n",
      "\n",
      "The 10 domains with the fewest articles:\n",
      "                        unique_values  counts\n",
      "545                   dailynews10.com       1\n",
      "546                   madpatriots.com       1\n",
      "547                        uspoln.com       1\n",
      "548              dailypoliticsusa.com       1\n",
      "549                  bighairynews.com       1\n",
      "550                     news4ktla.com       1\n",
      "551             firearmscoalition.org       1\n",
      "552  elelephantintheroom.blogspot.com       1\n",
      "553           usafirstinformation.com       1\n",
      "554                  newsmagazine.com       1\n"
     ]
    }
   ],
   "source": [
    "# Here is the number of news texts for each domain\n",
    "counts_domain = corpus['domain'].value_counts()\n",
    "counts_domain_df = counts_domain.rename_axis('unique_values').reset_index(name='counts')\n",
    "\n",
    "# The domains with the most articles\n",
    "print(f\"The 10 domains with the most articles:\\n{counts_domain_df[0:10]}\\n\")\n",
    "\n",
    "# The domains with the fewest articles\n",
    "print(f\"The 10 domains with the fewest articles:\\n{counts_domain_df[-10:]}\")"
   ]
  },
  {
   "cell_type": "code",
   "execution_count": 10,
   "metadata": {},
   "outputs": [
    {
     "data": {
      "image/png": "[encoded data removed]",
      "text/plain": [
       "<Figure size 1200x600 with 1 Axes>"
      ]
     },
     "metadata": {},
     "output_type": "display_data"
    }
   ],
   "source": [
    "# Plot of the distribution of articles across the different domains\n",
    "plt.figure(figsize=(12,6))\n",
    "plt.xlabel('DomainS in decending order; 1 is the domain with most articles, etc.')\n",
    "plt.ylabel('Number of articles')\n",
    "plt.title('Distribution of articles across the different domains')\n",
    "plt.xticks([1,100,200, 300, 400, 500, 600])\n",
    "plt.plot(counts_domain_df.index, counts_domain_df['counts'])\n",
    "plt.show()"
   ]
  },
  {
   "cell_type": "markdown",
   "metadata": {},
   "source": [
    "### Looking into 'type'"
   ]
  },
  {
   "cell_type": "code",
   "execution_count": 11,
   "metadata": {},
   "outputs": [
    {
     "name": "stdout",
     "output_type": "stream",
     "text": [
      "Number of unique values in 'type': 11\n",
      "\n",
      "Distribution of articles type:\n",
      "   unique_values  counts\n",
      "0       reliable  218452\n",
      "1      political  158061\n",
      "2           bias  115959\n",
      "3           fake  104155\n",
      "4     conspiracy   84069\n",
      "5          rumor   56366\n",
      "6     unreliable   34792\n",
      "7      clickbait   27003\n",
      "8        junksci   13577\n",
      "9         satire   13082\n",
      "10          hate    8742\n"
     ]
    }
   ],
   "source": [
    "print(f\"Number of unique values in 'type': {len(set(corpus['type']))}\\n\")\n",
    "\n",
    "# Here is the number of news texts for each domain\n",
    "counts_type = corpus['type'].value_counts()\n",
    "counts_type_df = counts_type.rename_axis('unique_values').reset_index(name='counts')\n",
    "\n",
    "print(f\"Distribution of articles type:\\n{counts_type_df}\")"
   ]
  },
  {
   "cell_type": "code",
   "execution_count": 12,
   "metadata": {},
   "outputs": [
    {
     "data": {
      "image/png": "[encoded data removed]",
      "text/plain": [
       "<Figure size 1200x600 with 1 Axes>"
      ]
     },
     "metadata": {},
     "output_type": "display_data"
    }
   ],
   "source": [
    "# Plot of the distribution of articles across the different types\n",
    "plt.figure(figsize=(12,6))\n",
    "plt.title('Distribution of article types')\n",
    "plt.xlabel('Type')\n",
    "plt.ylabel('Number of articles')\n",
    "plt.bar(counts_type_df['unique_values'], counts_type_df['counts'])\n",
    "plt.show()"
   ]
  },
  {
   "cell_type": "markdown",
   "metadata": {},
   "source": [
    "### Looking into 'content'"
   ]
  },
  {
   "cell_type": "code",
   "execution_count": 13,
   "metadata": {},
   "outputs": [],
   "source": [
    "# Calculate lengths of 'content' strings\n",
    "corpus['content_length'] = corpus.content.str.len()"
   ]
  },
  {
   "cell_type": "code",
   "execution_count": 14,
   "metadata": {},
   "outputs": [
    {
     "name": "stdout",
     "output_type": "stream",
     "text": [
      "The articles with most tokens has 21730 tokens.\n",
      "The articles with fewest tokens has 2 tokens.\n"
     ]
    }
   ],
   "source": [
    "content_length = corpus['content_length'].sort_values(ascending=False)\n",
    "print(f\"The articles with most tokens has {content_length.iloc[0]} tokens.\")\n",
    "print(f\"The articles with fewest tokens has {content_length.iloc[-1]} tokens.\")"
   ]
  },
  {
   "cell_type": "code",
   "execution_count": 15,
   "metadata": {},
   "outputs": [
    {
     "name": "stdout",
     "output_type": "stream",
     "text": [
      "Only 5,000 articles (or 0.6% of the articles) has more than 2653 tokens.\n"
     ]
    }
   ],
   "source": [
    "print(f\"Only 5,000 articles (or {round(5000/corpus.shape[0] * 100, 2)}% of the articles) has more than {content_length.iloc[5000]} tokens.\")"
   ]
  },
  {
   "cell_type": "code",
   "execution_count": 16,
   "metadata": {},
   "outputs": [
    {
     "name": "stdout",
     "output_type": "stream",
     "text": [
      "Only 5,000 articles (or 99.4% of the articles) has 7 or less tokens.\n"
     ]
    }
   ],
   "source": [
    "print(f\"Only 5,000 articles (or {round((corpus.shape[0]-5000)/corpus.shape[0] * 100, 2)}% of the articles) has {content_length.iloc[-5000]} or less tokens.\")"
   ]
  },
  {
   "cell_type": "code",
   "execution_count": 17,
   "metadata": {},
   "outputs": [
    {
     "name": "stdout",
     "output_type": "stream",
     "text": [
      "Average tokens per article is 350.56\n"
     ]
    }
   ],
   "source": [
    "print(f\"Average tokens per article is {round(content_length.mean(), 2)}\")"
   ]
  },
  {
   "cell_type": "code",
   "execution_count": 18,
   "metadata": {},
   "outputs": [
    {
     "name": "stdout",
     "output_type": "stream",
     "text": [
      "The median token count is 60\n"
     ]
    }
   ],
   "source": [
    "print(f\"The median token count is {content_length[len(content_length)/2]}\")"
   ]
  },
  {
   "cell_type": "code",
   "execution_count": 19,
   "metadata": {},
   "outputs": [
    {
     "data": {
      "image/png": "[encoded data removed]",
      "text/plain": [
       "<Figure size 1200x600 with 1 Axes>"
      ]
     },
     "metadata": {},
     "output_type": "display_data"
    }
   ],
   "source": [
    "# Plot of the number tokens in each article\n",
    "plt.figure(figsize=(12,6))\n",
    "plt.title('Number of tokens in each article')\n",
    "plt.xlabel('Articles in order: Article nr. 0 has highest number of tokens, etc.')\n",
    "plt.ylabel('Number of tokens')\n",
    "plt.xticks([0,10000, 200000,400000, 600000, 800000])\n",
    "plt.xticks(rotation=70)\n",
    "plt.plot(corpus.index, corpus['content_length'].sort_values(ascending=False))\n",
    "plt.show()"
   ]
  },
  {
   "cell_type": "code",
   "execution_count": 20,
   "metadata": {},
   "outputs": [],
   "source": [
    "# Find average length of articles (token count) for each article type.\n",
    "types = set(corpus['type'])\n",
    "types_df = pd.DataFrame(types)\n",
    "types_df.columns = ['type']\n",
    "types_df[\"average_token_count\"] = np.nan\n",
    "\n",
    "\n",
    "for index, row in types_df.iterrows():\n",
    "    df_temp = corpus.loc[corpus['type'] == row['type']]\n",
    "    types_df.at[index, 'average_token_count'] = sum(df_temp['content_length'])/df_temp.shape[0]\n",
    "\n",
    "types_df = types_df.sort_values(\"average_token_count\", ascending=False)\n"
   ]
  },
  {
   "cell_type": "code",
   "execution_count": 21,
   "metadata": {},
   "outputs": [
    {
     "data": {
      "image/png": "[encoded data removed]",
      "text/plain": [
       "<Figure size 1200x600 with 1 Axes>"
      ]
     },
     "metadata": {},
     "output_type": "display_data"
    }
   ],
   "source": [
    "# Plot the average length of articles (the token count) for each article type.\n",
    "plt.figure(figsize=(12,6))\n",
    "plt.title('Distribution of article types')\n",
    "plt.xlabel('Type')\n",
    "plt.ylabel('Average length of articles')\n",
    "plt.bar(types_df['type'], types_df['average_token_count'])\n",
    "plt.show()"
   ]
  },
  {
   "cell_type": "markdown",
   "metadata": {},
   "source": [
    "# Task 4"
   ]
  },
  {
   "cell_type": "markdown",
   "metadata": {},
   "source": [
    "### Should we shuffle before split?"
   ]
  },
  {
   "cell_type": "markdown",
   "metadata": {},
   "source": [
    "#### Lets first try splitting without shuffling first. We sort data by 'scraped_at' before splitting."
   ]
  },
  {
   "cell_type": "code",
   "execution_count": null,
   "metadata": {},
   "outputs": [],
   "source": [
    "# Sort data based on scrape date.\n",
    "\n",
    "# Note that 'coerce' results in NaN for entries that can't be converted.\n",
    "# This throws away many of the article, expecially articles of type 'reliable'.\n",
    "# Still, this will indicate whether the distribution is somewhat even in \n",
    "# in train, validation and test data without shuffling before splitting. \n",
    "corpus.scraped_at = pd.to_datetime(corpus.scraped_at,errors='coerce')  \n",
    "corpus = corpus[corpus.scraped_at.notnull()]\n",
    "\n",
    "corpus = corpus.sort_values('scraped_at')"
   ]
  },
  {
   "cell_type": "code",
   "execution_count": null,
   "metadata": {},
   "outputs": [],
   "source": [
    "# No shuffling before split\n",
    "train, valid, test = np.split(corpus, [int(0.8*len(corpus)), int(0.9*len(corpus))])"
   ]
  },
  {
   "cell_type": "markdown",
   "metadata": {},
   "source": [
    "#### Now lets see the distribution among article types in training, validation and test data."
   ]
  },
  {
   "cell_type": "code",
   "execution_count": null,
   "metadata": {},
   "outputs": [],
   "source": [
    "# Find the number of news texts for each domain in training data\n",
    "counts_type = train['type'].value_counts()\n",
    "counts_type_df = counts_type.rename_axis('unique_values').reset_index(name='counts')\n",
    "\n",
    "# Plot of the distribution of articles across the different types\n",
    "plt.figure(figsize=(12,6))\n",
    "plt.title('Distribution of article types in training data without shuffling before split')\n",
    "plt.xlabel('Type')\n",
    "plt.ylabel('Number of articles')\n",
    "plt.bar(counts_type_df['unique_values'], counts_type_df['counts'])\n",
    "plt.show()"
   ]
  },
  {
   "cell_type": "code",
   "execution_count": null,
   "metadata": {},
   "outputs": [],
   "source": [
    "# Find the number of news texts for each domain in validation data\n",
    "counts_type = valid['type'].value_counts()\n",
    "counts_type_df = counts_type.rename_axis('unique_values').reset_index(name='counts')\n",
    "\n",
    "# Plot of the distribution of articles across the different types\n",
    "plt.figure(figsize=(12,6))\n",
    "plt.title('Distribution of article types in validation data without shuffling before split')\n",
    "plt.xlabel('Type')\n",
    "plt.ylabel('Number of articles')\n",
    "plt.bar(counts_type_df['unique_values'], counts_type_df['counts'])\n",
    "plt.show()"
   ]
  },
  {
   "cell_type": "code",
   "execution_count": null,
   "metadata": {},
   "outputs": [],
   "source": [
    "# Find the number of news texts for each domain in test data\n",
    "counts_type = test['type'].value_counts()\n",
    "counts_type_df = counts_type.rename_axis('unique_values').reset_index(name='counts')\n",
    "\n",
    "# Plot of the distribution of articles across the different types\n",
    "plt.figure(figsize=(12,6))\n",
    "plt.title('Distribution of article types in test data without shuffling before split')\n",
    "plt.xlabel('Type')\n",
    "plt.ylabel('Number of articles')\n",
    "plt.bar(counts_type_df['unique_values'], counts_type_df['counts'])\n",
    "plt.show()"
   ]
  },
  {
   "cell_type": "markdown",
   "metadata": {},
   "source": [
    "### Okay, splitting without shuffling seems like a bad idea since distribution of article types is very uneven among train, validation and test. "
   ]
  },
  {
   "cell_type": "code",
   "execution_count": null,
   "metadata": {},
   "outputs": [],
   "source": [
    "# Shuffling before split\n",
    "train, valid, test = np.split(corpus.sample(frac=1, random_state=42), [int(0.8*len(corpus)), int(0.9*len(corpus))])"
   ]
  },
  {
   "cell_type": "code",
   "execution_count": null,
   "metadata": {},
   "outputs": [],
   "source": [
    "#train.to_csv('fakenewscorpus_data/15,000_rows_preprocessed_train.csv', index=False)\n",
    "#valid.to_csv('fakenewscorpus_data/15,000_rows_preprocessed_valid.csv', index=False)\n",
    "#test.to_csv('fakenewscorpus_data/15,000_rows_preprocessed_test.csv', index=False)\n",
    "train.to_csv('fakenewscorpus_data/995,000_rows_preprocessed_train.csv', index=False)\n",
    "valid.to_csv('fakenewscorpus_data/995,000_rows_preprocessed_valid.csv', index=False)\n",
    "test.to_csv('fakenewscorpus_data/995,000_rows_preprocessed_test.csv', index=False)"
   ]
  }
 ],
 "metadata": {
  "colab": {
   "provenance": []
  },
  "kernelspec": {
   "display_name": "env3",
   "language": "python",
   "name": "python3"
  },
  "language_info": {
   "codemirror_mode": {
    "name": "ipython",
    "version": 3
   },
   "file_extension": ".py",
   "mimetype": "text/x-python",
   "name": "python",
   "nbconvert_exporter": "python",
   "pygments_lexer": "ipython3",
   "version": "3.13.2"
  }
 },
 "nbformat": 4,
 "nbformat_minor": 4
}
